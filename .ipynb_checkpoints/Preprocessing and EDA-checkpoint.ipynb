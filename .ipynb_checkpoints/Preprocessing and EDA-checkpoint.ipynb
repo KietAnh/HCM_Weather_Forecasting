{
 "cells": [
  {
   "cell_type": "markdown",
   "metadata": {},
   "source": [
    "<h1>Step 2: Preprocessing & EDA</h1>"
   ]
  },
  {
   "cell_type": "markdown",
   "metadata": {},
   "source": [
    "---"
   ]
  },
  {
   "cell_type": "code",
   "execution_count": 31,
   "metadata": {},
   "outputs": [],
   "source": [
    "import pandas as pd\n",
    "import numpy as np\n",
    "import matplotlib.pyplot as plt\n",
    "import scipy.stats as stats"
   ]
  },
  {
   "cell_type": "markdown",
   "metadata": {},
   "source": [
    "### Đọc dữ liệu từ file"
   ]
  },
  {
   "cell_type": "code",
   "execution_count": 32,
   "metadata": {},
   "outputs": [
    {
     "data": {
      "text/html": [
       "<div>\n",
       "<style scoped>\n",
       "    .dataframe tbody tr th:only-of-type {\n",
       "        vertical-align: middle;\n",
       "    }\n",
       "\n",
       "    .dataframe tbody tr th {\n",
       "        vertical-align: top;\n",
       "    }\n",
       "\n",
       "    .dataframe thead th {\n",
       "        text-align: right;\n",
       "    }\n",
       "</style>\n",
       "<table border=\"1\" class=\"dataframe\">\n",
       "  <thead>\n",
       "    <tr style=\"text-align: right;\">\n",
       "      <th></th>\n",
       "      <th>Date</th>\n",
       "      <th>Time</th>\n",
       "      <th>Weather</th>\n",
       "      <th>Temp</th>\n",
       "      <th>Feels</th>\n",
       "      <th>Wind</th>\n",
       "      <th>Gust</th>\n",
       "      <th>Rain</th>\n",
       "      <th>Humidity</th>\n",
       "      <th>Cloud</th>\n",
       "      <th>Pressure</th>\n",
       "      <th>Vis</th>\n",
       "    </tr>\n",
       "  </thead>\n",
       "  <tbody>\n",
       "    <tr>\n",
       "      <th>0</th>\n",
       "      <td>Tue 06, Jan 2009</td>\n",
       "      <td>00:00</td>\n",
       "      <td>Clear</td>\n",
       "      <td>23 °c</td>\n",
       "      <td>26 °c</td>\n",
       "      <td>6 km/h from NNE</td>\n",
       "      <td>11 km/h</td>\n",
       "      <td>0.0 mm</td>\n",
       "      <td>84%</td>\n",
       "      <td>22%</td>\n",
       "      <td>1011 mb</td>\n",
       "      <td>Excellent</td>\n",
       "    </tr>\n",
       "    <tr>\n",
       "      <th>1</th>\n",
       "      <td>Tue 06, Jan 2009</td>\n",
       "      <td>03:00</td>\n",
       "      <td>Clear</td>\n",
       "      <td>22 °c</td>\n",
       "      <td>23 °c</td>\n",
       "      <td>8 km/h from N</td>\n",
       "      <td>13 km/h</td>\n",
       "      <td>0.0 mm</td>\n",
       "      <td>86%</td>\n",
       "      <td>24%</td>\n",
       "      <td>1011 mb</td>\n",
       "      <td>Excellent</td>\n",
       "    </tr>\n",
       "    <tr>\n",
       "      <th>2</th>\n",
       "      <td>Tue 06, Jan 2009</td>\n",
       "      <td>06:00</td>\n",
       "      <td>Sunny</td>\n",
       "      <td>22 °c</td>\n",
       "      <td>26 °c</td>\n",
       "      <td>4 km/h from N</td>\n",
       "      <td>4 km/h</td>\n",
       "      <td>0.0 mm</td>\n",
       "      <td>85%</td>\n",
       "      <td>21%</td>\n",
       "      <td>1012 mb</td>\n",
       "      <td>Excellent</td>\n",
       "    </tr>\n",
       "    <tr>\n",
       "      <th>3</th>\n",
       "      <td>Tue 06, Jan 2009</td>\n",
       "      <td>09:00</td>\n",
       "      <td>Sunny</td>\n",
       "      <td>27 °c</td>\n",
       "      <td>31 °c</td>\n",
       "      <td>6 km/h from NNE</td>\n",
       "      <td>7 km/h</td>\n",
       "      <td>0.0 mm</td>\n",
       "      <td>70%</td>\n",
       "      <td>23%</td>\n",
       "      <td>1013 mb</td>\n",
       "      <td>Excellent</td>\n",
       "    </tr>\n",
       "    <tr>\n",
       "      <th>4</th>\n",
       "      <td>Tue 06, Jan 2009</td>\n",
       "      <td>12:00</td>\n",
       "      <td>Sunny</td>\n",
       "      <td>31 °c</td>\n",
       "      <td>38 °c</td>\n",
       "      <td>1 km/h from ENE</td>\n",
       "      <td>2 km/h</td>\n",
       "      <td>0.0 mm</td>\n",
       "      <td>58%</td>\n",
       "      <td>10%</td>\n",
       "      <td>1010 mb</td>\n",
       "      <td>Excellent</td>\n",
       "    </tr>\n",
       "    <tr>\n",
       "      <th>5</th>\n",
       "      <td>Tue 06, Jan 2009</td>\n",
       "      <td>15:00</td>\n",
       "      <td>Sunny</td>\n",
       "      <td>30 °c</td>\n",
       "      <td>36 °c</td>\n",
       "      <td>4 km/h from SSE</td>\n",
       "      <td>5 km/h</td>\n",
       "      <td>0.0 mm</td>\n",
       "      <td>62%</td>\n",
       "      <td>14%</td>\n",
       "      <td>1009 mb</td>\n",
       "      <td>Excellent</td>\n",
       "    </tr>\n",
       "    <tr>\n",
       "      <th>6</th>\n",
       "      <td>Tue 06, Jan 2009</td>\n",
       "      <td>18:00</td>\n",
       "      <td>Partly cloudy</td>\n",
       "      <td>25 °c</td>\n",
       "      <td>28 °c</td>\n",
       "      <td>9 km/h from SSE</td>\n",
       "      <td>17 km/h</td>\n",
       "      <td>0.0 mm</td>\n",
       "      <td>80%</td>\n",
       "      <td>50%</td>\n",
       "      <td>1011 mb</td>\n",
       "      <td>Excellent</td>\n",
       "    </tr>\n",
       "    <tr>\n",
       "      <th>7</th>\n",
       "      <td>Tue 06, Jan 2009</td>\n",
       "      <td>21:00</td>\n",
       "      <td>Light rain shower</td>\n",
       "      <td>24 °c</td>\n",
       "      <td>27 °c</td>\n",
       "      <td>5 km/h from SSE</td>\n",
       "      <td>8 km/h</td>\n",
       "      <td>0.2 mm</td>\n",
       "      <td>88%</td>\n",
       "      <td>56%</td>\n",
       "      <td>1012 mb</td>\n",
       "      <td>Excellent</td>\n",
       "    </tr>\n",
       "    <tr>\n",
       "      <th>8</th>\n",
       "      <td>Fri 02, Jan 2009</td>\n",
       "      <td>00:00</td>\n",
       "      <td>Partly cloudy</td>\n",
       "      <td>22 °c</td>\n",
       "      <td>22 °c</td>\n",
       "      <td>8 km/h from N</td>\n",
       "      <td>14 km/h</td>\n",
       "      <td>0.0 mm</td>\n",
       "      <td>91%</td>\n",
       "      <td>30%</td>\n",
       "      <td>1011 mb</td>\n",
       "      <td>Excellent</td>\n",
       "    </tr>\n",
       "    <tr>\n",
       "      <th>9</th>\n",
       "      <td>Fri 02, Jan 2009</td>\n",
       "      <td>03:00</td>\n",
       "      <td>Cloudy</td>\n",
       "      <td>21 °c</td>\n",
       "      <td>22 °c</td>\n",
       "      <td>9 km/h from N</td>\n",
       "      <td>16 km/h</td>\n",
       "      <td>0.0 mm</td>\n",
       "      <td>91%</td>\n",
       "      <td>72%</td>\n",
       "      <td>1010 mb</td>\n",
       "      <td>Excellent</td>\n",
       "    </tr>\n",
       "  </tbody>\n",
       "</table>\n",
       "</div>"
      ],
      "text/plain": [
       "               Date   Time            Weather   Temp  Feels             Wind  \\\n",
       "0  Tue 06, Jan 2009  00:00              Clear  23 °c  26 °c  6 km/h from NNE   \n",
       "1  Tue 06, Jan 2009  03:00              Clear  22 °c  23 °c    8 km/h from N   \n",
       "2  Tue 06, Jan 2009  06:00              Sunny  22 °c  26 °c    4 km/h from N   \n",
       "3  Tue 06, Jan 2009  09:00              Sunny  27 °c  31 °c  6 km/h from NNE   \n",
       "4  Tue 06, Jan 2009  12:00              Sunny  31 °c  38 °c  1 km/h from ENE   \n",
       "5  Tue 06, Jan 2009  15:00              Sunny  30 °c  36 °c  4 km/h from SSE   \n",
       "6  Tue 06, Jan 2009  18:00      Partly cloudy  25 °c  28 °c  9 km/h from SSE   \n",
       "7  Tue 06, Jan 2009  21:00  Light rain shower  24 °c  27 °c  5 km/h from SSE   \n",
       "8  Fri 02, Jan 2009  00:00      Partly cloudy  22 °c  22 °c    8 km/h from N   \n",
       "9  Fri 02, Jan 2009  03:00             Cloudy  21 °c  22 °c    9 km/h from N   \n",
       "\n",
       "      Gust    Rain Humidity Cloud Pressure        Vis  \n",
       "0  11 km/h  0.0 mm      84%   22%  1011 mb  Excellent  \n",
       "1  13 km/h  0.0 mm      86%   24%  1011 mb  Excellent  \n",
       "2   4 km/h  0.0 mm      85%   21%  1012 mb  Excellent  \n",
       "3   7 km/h  0.0 mm      70%   23%  1013 mb  Excellent  \n",
       "4   2 km/h  0.0 mm      58%   10%  1010 mb  Excellent  \n",
       "5   5 km/h  0.0 mm      62%   14%  1009 mb  Excellent  \n",
       "6  17 km/h  0.0 mm      80%   50%  1011 mb  Excellent  \n",
       "7   8 km/h  0.2 mm      88%   56%  1012 mb  Excellent  \n",
       "8  14 km/h  0.0 mm      91%   30%  1011 mb  Excellent  \n",
       "9  16 km/h  0.0 mm      91%   72%  1010 mb  Excellent  "
      ]
     },
     "execution_count": 32,
     "metadata": {},
     "output_type": "execute_result"
    }
   ],
   "source": [
    "data = pd.read_csv('weatherHCM.csv', sep='\\t')\n",
    "data.head(10)"
   ]
  },
  {
   "cell_type": "code",
   "execution_count": 33,
   "metadata": {},
   "outputs": [
    {
     "data": {
      "text/plain": [
       "(34976, 12)"
      ]
     },
     "execution_count": 33,
     "metadata": {},
     "output_type": "execute_result"
    }
   ],
   "source": [
    "data.shape"
   ]
  },
  {
   "cell_type": "markdown",
   "metadata": {},
   "source": [
    "Dữ liệu gồm **34976** dòng và **12** cột. Mỗi dòng bao gồm các thông tin về thời tiết trong 3h:\n",
    "- Date: ngày\n",
    "- Time:    thời gian trong ngày\n",
    "- Weather: tình trạng thời tiết \n",
    "- Temp: nhiệt độ \n",
    "- Feels: nhiệt độ thực sự cảm nhận được\n",
    "- Wind: tốc độ gió\n",
    "- Gust: tốc độ gió giật\n",
    "- Rain: lượng mưa\n",
    "- Humidity: độ ẩm\n",
    "- Cloud: mật độ mây\n",
    "- Pressure: áp suất không khí\n",
    "- Vis: tầm nhìn"
   ]
  },
  {
   "cell_type": "markdown",
   "metadata": {},
   "source": [
    "### Kiểm tra giá trị thiếu"
   ]
  },
  {
   "cell_type": "code",
   "execution_count": 34,
   "metadata": {},
   "outputs": [
    {
     "name": "stdout",
     "output_type": "stream",
     "text": [
      "<class 'pandas.core.frame.DataFrame'>\n",
      "RangeIndex: 34976 entries, 0 to 34975\n",
      "Data columns (total 12 columns):\n",
      " #   Column    Non-Null Count  Dtype \n",
      "---  ------    --------------  ----- \n",
      " 0   Date      34976 non-null  object\n",
      " 1   Time      34976 non-null  object\n",
      " 2   Weather   34976 non-null  object\n",
      " 3   Temp      34976 non-null  object\n",
      " 4   Feels     34976 non-null  object\n",
      " 5   Wind      34976 non-null  object\n",
      " 6   Gust      34976 non-null  object\n",
      " 7   Rain      34976 non-null  object\n",
      " 8   Humidity  34976 non-null  object\n",
      " 9   Cloud     34976 non-null  object\n",
      " 10  Pressure  34976 non-null  object\n",
      " 11  Vis       34976 non-null  object\n",
      "dtypes: object(12)\n",
      "memory usage: 3.2+ MB\n"
     ]
    }
   ],
   "source": [
    "data.info()"
   ]
  },
  {
   "cell_type": "markdown",
   "metadata": {},
   "source": [
    "-> Dữ liệu không có giá trị thiếu"
   ]
  },
  {
   "cell_type": "markdown",
   "metadata": {},
   "source": [
    "### Kiểu dữ liệu "
   ]
  },
  {
   "cell_type": "markdown",
   "metadata": {},
   "source": [
    "Tất cả thuộc tính đều có kiểu dữ liệu object"
   ]
  },
  {
   "cell_type": "markdown",
   "metadata": {},
   "source": [
    "**Các cột Temp, Feels, Gust, Rain, Humidity, Cloud, Pressure nên được đưa về dạng số**"
   ]
  },
  {
   "cell_type": "code",
   "execution_count": 35,
   "metadata": {},
   "outputs": [],
   "source": [
    "attrs1 = ['Temp', 'Feels', 'Gust', 'Rain', 'Pressure']\n",
    "for attr in attrs1:\n",
    "    data[attr] = data[attr].str.split(' ', expand=True)[0].astype('float')\n",
    "    \n",
    "attrs2 = ['Humidity', 'Cloud']\n",
    "for attr in attrs2:\n",
    "    data[attr] = data[attr].str.split('%', expand=True)[0].astype('float') / 100"
   ]
  },
  {
   "cell_type": "markdown",
   "metadata": {},
   "source": [
    "Ta thấy cột Wind cho tới 2 thông tin là tốc độ và hướng gió, nên tách thành 2 cột riêng biệt là **Wind Speed** và **Wind Direction**"
   ]
  },
  {
   "cell_type": "code",
   "execution_count": 36,
   "metadata": {},
   "outputs": [],
   "source": [
    "new_data_Wind = data['Wind'].str.split(' from ', expand=True)\n",
    "data['Wind Speed'] = new_data_Wind[0]\n",
    "data['Wind Direction'] = new_data_Wind[1]\n",
    "data.drop(columns=['Wind'], inplace=True)"
   ]
  },
  {
   "cell_type": "markdown",
   "metadata": {},
   "source": [
    "Đưa cột **Wind Speed** về dạng số"
   ]
  },
  {
   "cell_type": "code",
   "execution_count": 37,
   "metadata": {},
   "outputs": [],
   "source": [
    "data['Wind Speed'] = data['Wind Speed'].str.split(' ', expand=True)[0].astype('float')"
   ]
  },
  {
   "cell_type": "code",
   "execution_count": 38,
   "metadata": {},
   "outputs": [
    {
     "data": {
      "text/plain": [
       "Date               object\n",
       "Time               object\n",
       "Weather            object\n",
       "Temp              float64\n",
       "Feels             float64\n",
       "Gust              float64\n",
       "Rain              float64\n",
       "Humidity          float64\n",
       "Cloud             float64\n",
       "Pressure          float64\n",
       "Vis                object\n",
       "Wind Speed        float64\n",
       "Wind Direction     object\n",
       "dtype: object"
      ]
     },
     "execution_count": 38,
     "metadata": {},
     "output_type": "execute_result"
    }
   ],
   "source": [
    "data.dtypes"
   ]
  },
  {
   "cell_type": "markdown",
   "metadata": {},
   "source": [
    "### Phân bố của dữ liệu dạng số"
   ]
  },
  {
   "cell_type": "code",
   "execution_count": 39,
   "metadata": {},
   "outputs": [
    {
     "data": {
      "text/html": [
       "<div>\n",
       "<style scoped>\n",
       "    .dataframe tbody tr th:only-of-type {\n",
       "        vertical-align: middle;\n",
       "    }\n",
       "\n",
       "    .dataframe tbody tr th {\n",
       "        vertical-align: top;\n",
       "    }\n",
       "\n",
       "    .dataframe thead th {\n",
       "        text-align: right;\n",
       "    }\n",
       "</style>\n",
       "<table border=\"1\" class=\"dataframe\">\n",
       "  <thead>\n",
       "    <tr style=\"text-align: right;\">\n",
       "      <th></th>\n",
       "      <th>Temp</th>\n",
       "      <th>Feels</th>\n",
       "      <th>Gust</th>\n",
       "      <th>Rain</th>\n",
       "      <th>Humidity</th>\n",
       "      <th>Cloud</th>\n",
       "      <th>Pressure</th>\n",
       "      <th>Wind Speed</th>\n",
       "    </tr>\n",
       "  </thead>\n",
       "  <tbody>\n",
       "    <tr>\n",
       "      <th>count</th>\n",
       "      <td>34976.000000</td>\n",
       "      <td>34976.000000</td>\n",
       "      <td>34976.000000</td>\n",
       "      <td>34976.000000</td>\n",
       "      <td>34976.000000</td>\n",
       "      <td>34976.000000</td>\n",
       "      <td>34976.000000</td>\n",
       "      <td>34976.000000</td>\n",
       "    </tr>\n",
       "    <tr>\n",
       "      <th>mean</th>\n",
       "      <td>27.845666</td>\n",
       "      <td>32.189044</td>\n",
       "      <td>13.076109</td>\n",
       "      <td>0.441620</td>\n",
       "      <td>0.739569</td>\n",
       "      <td>0.379249</td>\n",
       "      <td>1009.338089</td>\n",
       "      <td>9.156336</td>\n",
       "    </tr>\n",
       "    <tr>\n",
       "      <th>std</th>\n",
       "      <td>3.413872</td>\n",
       "      <td>4.438882</td>\n",
       "      <td>6.687971</td>\n",
       "      <td>1.458711</td>\n",
       "      <td>0.156760</td>\n",
       "      <td>0.243597</td>\n",
       "      <td>2.388195</td>\n",
       "      <td>4.507883</td>\n",
       "    </tr>\n",
       "    <tr>\n",
       "      <th>min</th>\n",
       "      <td>16.000000</td>\n",
       "      <td>16.000000</td>\n",
       "      <td>0.000000</td>\n",
       "      <td>0.000000</td>\n",
       "      <td>0.210000</td>\n",
       "      <td>0.000000</td>\n",
       "      <td>1000.000000</td>\n",
       "      <td>0.000000</td>\n",
       "    </tr>\n",
       "    <tr>\n",
       "      <th>25%</th>\n",
       "      <td>25.000000</td>\n",
       "      <td>29.000000</td>\n",
       "      <td>8.000000</td>\n",
       "      <td>0.000000</td>\n",
       "      <td>0.640000</td>\n",
       "      <td>0.190000</td>\n",
       "      <td>1008.000000</td>\n",
       "      <td>6.000000</td>\n",
       "    </tr>\n",
       "    <tr>\n",
       "      <th>50%</th>\n",
       "      <td>27.000000</td>\n",
       "      <td>31.000000</td>\n",
       "      <td>12.000000</td>\n",
       "      <td>0.000000</td>\n",
       "      <td>0.770000</td>\n",
       "      <td>0.330000</td>\n",
       "      <td>1009.000000</td>\n",
       "      <td>9.000000</td>\n",
       "    </tr>\n",
       "    <tr>\n",
       "      <th>75%</th>\n",
       "      <td>30.000000</td>\n",
       "      <td>36.000000</td>\n",
       "      <td>17.000000</td>\n",
       "      <td>0.000000</td>\n",
       "      <td>0.870000</td>\n",
       "      <td>0.530000</td>\n",
       "      <td>1011.000000</td>\n",
       "      <td>12.000000</td>\n",
       "    </tr>\n",
       "    <tr>\n",
       "      <th>max</th>\n",
       "      <td>39.000000</td>\n",
       "      <td>51.000000</td>\n",
       "      <td>55.000000</td>\n",
       "      <td>50.800000</td>\n",
       "      <td>0.990000</td>\n",
       "      <td>1.000000</td>\n",
       "      <td>1019.000000</td>\n",
       "      <td>33.000000</td>\n",
       "    </tr>\n",
       "  </tbody>\n",
       "</table>\n",
       "</div>"
      ],
      "text/plain": [
       "               Temp         Feels          Gust          Rain      Humidity  \\\n",
       "count  34976.000000  34976.000000  34976.000000  34976.000000  34976.000000   \n",
       "mean      27.845666     32.189044     13.076109      0.441620      0.739569   \n",
       "std        3.413872      4.438882      6.687971      1.458711      0.156760   \n",
       "min       16.000000     16.000000      0.000000      0.000000      0.210000   \n",
       "25%       25.000000     29.000000      8.000000      0.000000      0.640000   \n",
       "50%       27.000000     31.000000     12.000000      0.000000      0.770000   \n",
       "75%       30.000000     36.000000     17.000000      0.000000      0.870000   \n",
       "max       39.000000     51.000000     55.000000     50.800000      0.990000   \n",
       "\n",
       "              Cloud      Pressure    Wind Speed  \n",
       "count  34976.000000  34976.000000  34976.000000  \n",
       "mean       0.379249   1009.338089      9.156336  \n",
       "std        0.243597      2.388195      4.507883  \n",
       "min        0.000000   1000.000000      0.000000  \n",
       "25%        0.190000   1008.000000      6.000000  \n",
       "50%        0.330000   1009.000000      9.000000  \n",
       "75%        0.530000   1011.000000     12.000000  \n",
       "max        1.000000   1019.000000     33.000000  "
      ]
     },
     "execution_count": 39,
     "metadata": {},
     "output_type": "execute_result"
    }
   ],
   "source": [
    "data_float = data[['Temp', 'Feels', 'Gust', 'Rain', 'Humidity', 'Cloud', 'Pressure', 'Wind Speed']]\n",
    "data_float.describe()"
   ]
  },
  {
   "cell_type": "code",
   "execution_count": 40,
   "metadata": {},
   "outputs": [
    {
     "data": {
      "image/png": "[encoded data removed]",
      "text/plain": [
       "<Figure size 1080x576 with 8 Axes>"
      ]
     },
     "metadata": {
      "needs_background": "light"
     },
     "output_type": "display_data"
    }
   ],
   "source": [
    "fig, axs = plt.subplots(2, 4, figsize=(15, 8))\n",
    "\n",
    "axs[0, 0].boxplot(data['Temp'])\n",
    "axs[0, 0].set_xlabel('Temp')\n",
    "\n",
    "axs[0, 1].boxplot(data['Feels'])\n",
    "axs[0, 1].set_xlabel('Feels')\n",
    "\n",
    "axs[0, 2].boxplot(data['Gust'])\n",
    "axs[0, 2].set_xlabel('Gust')\n",
    "\n",
    "axs[0, 3].boxplot(data['Rain'])\n",
    "axs[0, 3].set_xlabel('Rain')\n",
    "\n",
    "axs[1, 0].boxplot(data['Humidity'])\n",
    "axs[1, 0].set_xlabel('Humidity')\n",
    "\n",
    "axs[1, 1].boxplot(data['Cloud'])\n",
    "axs[1, 1].set_xlabel('Cloud')\n",
    "\n",
    "axs[1, 2].boxplot(data['Pressure'])\n",
    "axs[1, 2].set_xlabel('Pressure')\n",
    "\n",
    "axs[1, 3].boxplot(data['Wind Speed'])\n",
    "axs[1, 3].set_xlabel('Wind Speed')\n",
    "\n",
    "plt.show()"
   ]
  },
  {
   "cell_type": "markdown",
   "metadata": {},
   "source": [
    "**Tìm giá trị không hợp lệ**"
   ]
  },
  {
   "cell_type": "markdown",
   "metadata": {},
   "source": [
    "Wind Speed sẽ luôn nhỏ hơn Gust trong cùng khoảng thời gian"
   ]
  },
  {
   "cell_type": "code",
   "execution_count": 41,
   "metadata": {},
   "outputs": [
    {
     "data": {
      "text/plain": [
       "0"
      ]
     },
     "execution_count": 41,
     "metadata": {},
     "output_type": "execute_result"
    }
   ],
   "source": [
    "num_invalid_rows = (data['Gust'] < data['Wind Speed']).sum()\n",
    "num_invalid_rows"
   ]
  },
  {
   "cell_type": "markdown",
   "metadata": {},
   "source": [
    "-> Không có giá trị không hợp lệ"
   ]
  },
  {
   "cell_type": "markdown",
   "metadata": {},
   "source": [
    "### Phân bố của dữ liệu không phải số"
   ]
  },
  {
   "cell_type": "code",
   "execution_count": 42,
   "metadata": {},
   "outputs": [
    {
     "data": {
      "image/png": "[encoded data removed]",
      "text/plain": [
       "<Figure size 720x432 with 1 Axes>"
      ]
     },
     "metadata": {
      "needs_background": "light"
     },
     "output_type": "display_data"
    }
   ],
   "source": [
    "# Weather\n",
    "dic_weather = {}\n",
    "for weather in data['Weather'].unique():\n",
    "    dic_weather[weather] = data[data['Weather'] == weather].shape[0]\n",
    "    \n",
    "data_weather = pd.Series(dict(sorted(dic_weather.items(), key=lambda item: item[1])))\n",
    "plot_weather = data_weather.plot(kind = 'barh', figsize=(10,6), title='Weather')"
   ]
  },
  {
   "cell_type": "code",
   "execution_count": 43,
   "metadata": {},
   "outputs": [
    {
     "data": {
      "image/png": "[encoded data removed]",
      "text/plain": [
       "<Figure size 720x432 with 1 Axes>"
      ]
     },
     "metadata": {
      "needs_background": "light"
     },
     "output_type": "display_data"
    }
   ],
   "source": [
    "# Vision\n",
    "dic_vis = {}\n",
    "for vis in data['Vis'].unique():\n",
    "    dic_vis[vis] = data[data['Vis'] == vis].shape[0]\n",
    "data_vis = pd.Series(dict(sorted(dic_vis.items(), key=lambda item: item[1])))\n",
    "plot_vis = data_vis.plot(kind='barh', figsize=(10,6), title='Vision')"
   ]
  },
  {
   "cell_type": "code",
   "execution_count": 44,
   "metadata": {},
   "outputs": [
    {
     "data": {
      "image/png": "[encoded data removed]",
      "text/plain": [
       "<Figure size 720x432 with 1 Axes>"
      ]
     },
     "metadata": {
      "needs_background": "light"
     },
     "output_type": "display_data"
    }
   ],
   "source": [
    "# Wind direction\n",
    "dic_wind_dir = {}\n",
    "for wind_dir in data['Wind Direction'].unique():\n",
    "    dic_wind_dir[wind_dir] = data[data['Wind Direction'] == wind_dir].shape[0]\n",
    "    \n",
    "data_wind_dir = pd.Series(dict(sorted(dic_wind_dir.items(), key=lambda item: item[1])))\n",
    "plot_wind_dir = data_wind_dir.plot(kind='barh', figsize=(10,6), title='Wind Direction')"
   ]
  },
  {
   "cell_type": "markdown",
   "metadata": {},
   "source": [
    "### Xử lý các outliers"
   ]
  },
  {
   "cell_type": "markdown",
   "metadata": {},
   "source": [
    "Dùng phương pháp Winsorizing để xử lý outliers."
   ]
  },
  {
   "cell_type": "code",
   "execution_count": 46,
   "metadata": {},
   "outputs": [],
   "source": [
    "# Winsorizing\n",
    "cols_winsorize = ['Temp', 'Feels', 'Gust', 'Rain', 'Humidity', 'Wind Speed', 'Pressure']\n",
    "for col in cols_winsorize:\n",
    "    data[col] = stats.mstats.winsorize(data[col], limits=0.05)"
   ]
  },
  {
   "cell_type": "markdown",
   "metadata": {},
   "source": [
    "Gộp các giá trị của **Weather** thành các giá trị: *Sunny*, *Clear*, *Cloudy*, *Rain*, *Mist* và *Overcast*"
   ]
  },
  {
   "cell_type": "code",
   "execution_count": 49,
   "metadata": {},
   "outputs": [
    {
     "data": {
      "text/plain": [
       "array(['Clear', 'Sunny', 'Cloudy', 'Rain', 'Mist', 'Overcast'],\n",
       "      dtype=object)"
      ]
     },
     "execution_count": 49,
     "metadata": {},
     "output_type": "execute_result"
    }
   ],
   "source": [
    "def convert_weather(x):\n",
    "    if ('rain' in x) or ('drizzle' in x) or ('Thundery' in x):\n",
    "        return 'Rain'\n",
    "    if x == 'Fog':\n",
    "        return 'Mist'\n",
    "    if x == 'Partly cloudy':\n",
    "        return 'Cloudy'\n",
    "    return x\n",
    "\n",
    "data['Weather'] = data['Weather'].apply(convert_weather)\n",
    "data['Weather'].unique()"
   ]
  },
  {
   "cell_type": "markdown",
   "metadata": {},
   "source": [
    "**Dữ liệu sau khi tiền xử lý**"
   ]
  },
  {
   "cell_type": "code",
   "execution_count": 50,
   "metadata": {},
   "outputs": [
    {
     "data": {
      "text/html": [
       "<div>\n",
       "<style scoped>\n",
       "    .dataframe tbody tr th:only-of-type {\n",
       "        vertical-align: middle;\n",
       "    }\n",
       "\n",
       "    .dataframe tbody tr th {\n",
       "        vertical-align: top;\n",
       "    }\n",
       "\n",
       "    .dataframe thead th {\n",
       "        text-align: right;\n",
       "    }\n",
       "</style>\n",
       "<table border=\"1\" class=\"dataframe\">\n",
       "  <thead>\n",
       "    <tr style=\"text-align: right;\">\n",
       "      <th></th>\n",
       "      <th>Date</th>\n",
       "      <th>Time</th>\n",
       "      <th>Weather</th>\n",
       "      <th>Temp</th>\n",
       "      <th>Feels</th>\n",
       "      <th>Gust</th>\n",
       "      <th>Rain</th>\n",
       "      <th>Humidity</th>\n",
       "      <th>Cloud</th>\n",
       "      <th>Pressure</th>\n",
       "      <th>Vis</th>\n",
       "      <th>Wind Speed</th>\n",
       "      <th>Wind Direction</th>\n",
       "    </tr>\n",
       "  </thead>\n",
       "  <tbody>\n",
       "    <tr>\n",
       "      <th>0</th>\n",
       "      <td>Tue 06, Jan 2009</td>\n",
       "      <td>00:00</td>\n",
       "      <td>Clear</td>\n",
       "      <td>23.0</td>\n",
       "      <td>26.0</td>\n",
       "      <td>11.0</td>\n",
       "      <td>0.0</td>\n",
       "      <td>0.84</td>\n",
       "      <td>0.22</td>\n",
       "      <td>1011.0</td>\n",
       "      <td>Excellent</td>\n",
       "      <td>6.0</td>\n",
       "      <td>NNE</td>\n",
       "    </tr>\n",
       "    <tr>\n",
       "      <th>1</th>\n",
       "      <td>Tue 06, Jan 2009</td>\n",
       "      <td>03:00</td>\n",
       "      <td>Clear</td>\n",
       "      <td>23.0</td>\n",
       "      <td>26.0</td>\n",
       "      <td>13.0</td>\n",
       "      <td>0.0</td>\n",
       "      <td>0.86</td>\n",
       "      <td>0.24</td>\n",
       "      <td>1011.0</td>\n",
       "      <td>Excellent</td>\n",
       "      <td>8.0</td>\n",
       "      <td>N</td>\n",
       "    </tr>\n",
       "    <tr>\n",
       "      <th>2</th>\n",
       "      <td>Tue 06, Jan 2009</td>\n",
       "      <td>06:00</td>\n",
       "      <td>Sunny</td>\n",
       "      <td>23.0</td>\n",
       "      <td>26.0</td>\n",
       "      <td>4.0</td>\n",
       "      <td>0.0</td>\n",
       "      <td>0.85</td>\n",
       "      <td>0.21</td>\n",
       "      <td>1012.0</td>\n",
       "      <td>Excellent</td>\n",
       "      <td>4.0</td>\n",
       "      <td>N</td>\n",
       "    </tr>\n",
       "    <tr>\n",
       "      <th>3</th>\n",
       "      <td>Tue 06, Jan 2009</td>\n",
       "      <td>09:00</td>\n",
       "      <td>Sunny</td>\n",
       "      <td>27.0</td>\n",
       "      <td>31.0</td>\n",
       "      <td>7.0</td>\n",
       "      <td>0.0</td>\n",
       "      <td>0.70</td>\n",
       "      <td>0.23</td>\n",
       "      <td>1013.0</td>\n",
       "      <td>Excellent</td>\n",
       "      <td>6.0</td>\n",
       "      <td>NNE</td>\n",
       "    </tr>\n",
       "    <tr>\n",
       "      <th>4</th>\n",
       "      <td>Tue 06, Jan 2009</td>\n",
       "      <td>12:00</td>\n",
       "      <td>Sunny</td>\n",
       "      <td>31.0</td>\n",
       "      <td>38.0</td>\n",
       "      <td>4.0</td>\n",
       "      <td>0.0</td>\n",
       "      <td>0.58</td>\n",
       "      <td>0.10</td>\n",
       "      <td>1010.0</td>\n",
       "      <td>Excellent</td>\n",
       "      <td>3.0</td>\n",
       "      <td>ENE</td>\n",
       "    </tr>\n",
       "    <tr>\n",
       "      <th>5</th>\n",
       "      <td>Tue 06, Jan 2009</td>\n",
       "      <td>15:00</td>\n",
       "      <td>Sunny</td>\n",
       "      <td>30.0</td>\n",
       "      <td>36.0</td>\n",
       "      <td>5.0</td>\n",
       "      <td>0.0</td>\n",
       "      <td>0.62</td>\n",
       "      <td>0.14</td>\n",
       "      <td>1009.0</td>\n",
       "      <td>Excellent</td>\n",
       "      <td>4.0</td>\n",
       "      <td>SSE</td>\n",
       "    </tr>\n",
       "    <tr>\n",
       "      <th>6</th>\n",
       "      <td>Tue 06, Jan 2009</td>\n",
       "      <td>18:00</td>\n",
       "      <td>Cloudy</td>\n",
       "      <td>25.0</td>\n",
       "      <td>28.0</td>\n",
       "      <td>17.0</td>\n",
       "      <td>0.0</td>\n",
       "      <td>0.80</td>\n",
       "      <td>0.50</td>\n",
       "      <td>1011.0</td>\n",
       "      <td>Excellent</td>\n",
       "      <td>9.0</td>\n",
       "      <td>SSE</td>\n",
       "    </tr>\n",
       "    <tr>\n",
       "      <th>7</th>\n",
       "      <td>Tue 06, Jan 2009</td>\n",
       "      <td>21:00</td>\n",
       "      <td>Rain</td>\n",
       "      <td>24.0</td>\n",
       "      <td>27.0</td>\n",
       "      <td>8.0</td>\n",
       "      <td>0.2</td>\n",
       "      <td>0.88</td>\n",
       "      <td>0.56</td>\n",
       "      <td>1012.0</td>\n",
       "      <td>Excellent</td>\n",
       "      <td>5.0</td>\n",
       "      <td>SSE</td>\n",
       "    </tr>\n",
       "    <tr>\n",
       "      <th>8</th>\n",
       "      <td>Fri 02, Jan 2009</td>\n",
       "      <td>00:00</td>\n",
       "      <td>Cloudy</td>\n",
       "      <td>23.0</td>\n",
       "      <td>26.0</td>\n",
       "      <td>14.0</td>\n",
       "      <td>0.0</td>\n",
       "      <td>0.91</td>\n",
       "      <td>0.30</td>\n",
       "      <td>1011.0</td>\n",
       "      <td>Excellent</td>\n",
       "      <td>8.0</td>\n",
       "      <td>N</td>\n",
       "    </tr>\n",
       "    <tr>\n",
       "      <th>9</th>\n",
       "      <td>Fri 02, Jan 2009</td>\n",
       "      <td>03:00</td>\n",
       "      <td>Cloudy</td>\n",
       "      <td>23.0</td>\n",
       "      <td>26.0</td>\n",
       "      <td>16.0</td>\n",
       "      <td>0.0</td>\n",
       "      <td>0.91</td>\n",
       "      <td>0.72</td>\n",
       "      <td>1010.0</td>\n",
       "      <td>Excellent</td>\n",
       "      <td>9.0</td>\n",
       "      <td>N</td>\n",
       "    </tr>\n",
       "  </tbody>\n",
       "</table>\n",
       "</div>"
      ],
      "text/plain": [
       "               Date   Time Weather  Temp  Feels  Gust  Rain  Humidity  Cloud  \\\n",
       "0  Tue 06, Jan 2009  00:00   Clear  23.0   26.0  11.0   0.0      0.84   0.22   \n",
       "1  Tue 06, Jan 2009  03:00   Clear  23.0   26.0  13.0   0.0      0.86   0.24   \n",
       "2  Tue 06, Jan 2009  06:00   Sunny  23.0   26.0   4.0   0.0      0.85   0.21   \n",
       "3  Tue 06, Jan 2009  09:00   Sunny  27.0   31.0   7.0   0.0      0.70   0.23   \n",
       "4  Tue 06, Jan 2009  12:00   Sunny  31.0   38.0   4.0   0.0      0.58   0.10   \n",
       "5  Tue 06, Jan 2009  15:00   Sunny  30.0   36.0   5.0   0.0      0.62   0.14   \n",
       "6  Tue 06, Jan 2009  18:00  Cloudy  25.0   28.0  17.0   0.0      0.80   0.50   \n",
       "7  Tue 06, Jan 2009  21:00    Rain  24.0   27.0   8.0   0.2      0.88   0.56   \n",
       "8  Fri 02, Jan 2009  00:00  Cloudy  23.0   26.0  14.0   0.0      0.91   0.30   \n",
       "9  Fri 02, Jan 2009  03:00  Cloudy  23.0   26.0  16.0   0.0      0.91   0.72   \n",
       "\n",
       "   Pressure        Vis  Wind Speed Wind Direction  \n",
       "0    1011.0  Excellent         6.0            NNE  \n",
       "1    1011.0  Excellent         8.0              N  \n",
       "2    1012.0  Excellent         4.0              N  \n",
       "3    1013.0  Excellent         6.0            NNE  \n",
       "4    1010.0  Excellent         3.0            ENE  \n",
       "5    1009.0  Excellent         4.0            SSE  \n",
       "6    1011.0  Excellent         9.0            SSE  \n",
       "7    1012.0  Excellent         5.0            SSE  \n",
       "8    1011.0  Excellent         8.0              N  \n",
       "9    1010.0  Excellent         9.0              N  "
      ]
     },
     "execution_count": 50,
     "metadata": {},
     "output_type": "execute_result"
    }
   ],
   "source": [
    "data.head(10)"
   ]
  },
  {
   "cell_type": "markdown",
   "metadata": {},
   "source": [
    "**Ghi vào file csv**"
   ]
  },
  {
   "cell_type": "code",
   "execution_count": 51,
   "metadata": {},
   "outputs": [],
   "source": [
    "data.to_csv('weatherHCM_preprocessed.csv', sep='\\t', index=False)"
   ]
  }
 ],
 "metadata": {
  "kernelspec": {
   "display_name": "Python 3",
   "language": "python",
   "name": "python3"
  },
  "language_info": {
   "codemirror_mode": {
    "name": "ipython",
    "version": 3
   },
   "file_extension": ".py",
   "mimetype": "text/x-python",
   "name": "python",
   "nbconvert_exporter": "python",
   "pygments_lexer": "ipython3",
   "version": "3.8.3"
  }
 },
 "nbformat": 4,
 "nbformat_minor": 4
}
