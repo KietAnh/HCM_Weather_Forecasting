{
 "cells": [
  {
   "cell_type": "markdown",
   "metadata": {},
   "source": [
    "<h1>Step 1: Collecting Data</h1>"
   ]
  },
  {
   "cell_type": "markdown",
   "metadata": {},
   "source": [
    "---"
   ]
  },
  {
   "cell_type": "code",
   "execution_count": 12,
   "metadata": {},
   "outputs": [],
   "source": [
    "from requests_html import HTML\n",
    "import urllib.robotparser\n",
    "import pandas as pd\n",
    "import datetime\n",
    "import time\n",
    "from selenium.common.exceptions import WebDriverException\n",
    "from selenium import webdriver"
   ]
  },
  {
   "cell_type": "markdown",
   "metadata": {},
   "source": [
    "Check file robots.txt"
   ]
  },
  {
   "cell_type": "code",
   "execution_count": 3,
   "metadata": {},
   "outputs": [
    {
     "data": {
      "text/plain": [
       "True"
      ]
     },
     "execution_count": 3,
     "metadata": {},
     "output_type": "execute_result"
    }
   ],
   "source": [
    "rp = urllib.robotparser.RobotFileParser()\n",
    "rp.set_url('https://www.worldweatheronline.com//robots.txt')\n",
    "rp.read()\n",
    "rp.can_fetch('*', 'https://www.worldweatheronline.com/ho-chi-minh-city-weather-history/vn.aspx')"
   ]
  },
  {
   "cell_type": "markdown",
   "metadata": {},
   "source": [
    "Dùng thư viện Selenium để tương tác với trang web và requests_html để parse html "
   ]
  },
  {
   "cell_type": "code",
   "execution_count": 34,
   "metadata": {},
   "outputs": [],
   "source": [
    "browser = webdriver.Chrome(executable_path='chromedriver.exe')\n",
    "browser.get('https://www.worldweatheronline.com/ho-chi-minh-city-weather-history/vn.aspx')"
   ]
  },
  {
   "cell_type": "code",
   "execution_count": 36,
   "metadata": {},
   "outputs": [],
   "source": [
    "f = open('weatherHCM.csv', 'w', encoding='utf-8')\n",
    "f.write('Date\\tTime\\tWeather\\tTemp\\tFeels\\tWind\\tGust\\tRain\\tHumidity\\tCloud\\tPressure\\tVis\\n')\n",
    "\n",
    "date = datetime.datetime(2009, 1, 1)\n",
    "end_date = datetime.datetime(2020, 12, 21)\n",
    "date_col = ''\n",
    "\n",
    "record = ['Time', 'Weather', 'Temp', 'Feels', 'Wind', 'Gust', 'Rain', 'Humidity', 'Cloud', 'Pressure', 'Vis']\n",
    "n_cols = len(record)\n",
    "\n",
    "while date < end_date:\n",
    "    date_str = date.strftime('%Y-%m-%d')\n",
    "    \n",
    "    # Adjust date\n",
    "    input_date = browser.find_element_by_id('ctl00_MainContentHolder_txtPastDate')\n",
    "    browser.execute_script(\"arguments[0].value = arguments[1];\", input_date, date_str)\n",
    "    submit_date = browser.find_element_by_id('ctl00_MainContentHolder_butShowPastWeather')\n",
    "    \n",
    "    try:\n",
    "        submit_date.click()\n",
    "    except WebDriverException:\n",
    "        print(f'Error: Date {date_str}')\n",
    "        continue\n",
    "        \n",
    "    time.sleep(1) # wait for loading the page\n",
    "    \n",
    "    # parse html and write to file\n",
    "    html = HTML(html=browser.page_source)\n",
    "    yesterday = date_col \n",
    "    date_col = html.find('.card-header',first=True).find('h5', first=True).text + ' ' + str(date.year)\n",
    "    if date_col == yesterday:\n",
    "        continue\n",
    "        \n",
    "    date += datetime.timedelta(days=1)\n",
    "        \n",
    "    cols = html.find('.col')[20:108]\n",
    "    \n",
    "    i = 0\n",
    "    for col in cols:\n",
    "        record[i % n_cols] = col.text\n",
    "        i += 1\n",
    "\n",
    "        if i % n_cols == 0:\n",
    "            f.write(f'{date_col}\\t{record[0]}\\t{record[1]}\\t{record[2]}\\t{record[3]}\\t{record[4]}\\t{record[5]}\\t{record[6]}\\t{record[7]}\\t{record[8]}\\t{record[9]}\\t{record[10]}\\n')\n",
    "    \n",
    "f.close()"
   ]
  }
 ],
 "metadata": {
  "kernelspec": {
   "display_name": "Python 3",
   "language": "python",
   "name": "python3"
  },
  "language_info": {
   "codemirror_mode": {
    "name": "ipython",
    "version": 3
   },
   "file_extension": ".py",
   "mimetype": "text/x-python",
   "name": "python",
   "nbconvert_exporter": "python",
   "pygments_lexer": "ipython3",
   "version": "3.8.3"
  }
 },
 "nbformat": 4,
 "nbformat_minor": 4
}
