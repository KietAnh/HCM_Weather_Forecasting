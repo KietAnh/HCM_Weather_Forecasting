{
 "cells": [
  {
   "cell_type": "markdown",
   "metadata": {},
   "source": [
    "<h1>Step 2: Preprocessing & EDA</h1>"
   ]
  },
  {
   "cell_type": "markdown",
   "metadata": {},
   "source": [
    "---"
   ]
  },
  {
   "cell_type": "code",
   "execution_count": 39,
   "metadata": {},
   "outputs": [],
   "source": [
    "import pandas as pd\n",
    "import numpy as np\n",
    "import matplotlib.pyplot as plt\n",
    "import scipy.stats as stats"
   ]
  },
  {
   "cell_type": "markdown",
   "metadata": {},
   "source": [
    "### Đọc dữ liệu từ file"
   ]
  },
  {
   "cell_type": "code",
   "execution_count": 40,
   "metadata": {},
   "outputs": [
    {
     "data": {
      "text/html": [
       "<div>\n",
       "<style scoped>\n",
       "    .dataframe tbody tr th:only-of-type {\n",
       "        vertical-align: middle;\n",
       "    }\n",
       "\n",
       "    .dataframe tbody tr th {\n",
       "        vertical-align: top;\n",
       "    }\n",
       "\n",
       "    .dataframe thead th {\n",
       "        text-align: right;\n",
       "    }\n",
       "</style>\n",
       "<table border=\"1\" class=\"dataframe\">\n",
       "  <thead>\n",
       "    <tr style=\"text-align: right;\">\n",
       "      <th></th>\n",
       "      <th>Date</th>\n",
       "      <th>Time</th>\n",
       "      <th>Weather</th>\n",
       "      <th>Temp</th>\n",
       "      <th>Feels</th>\n",
       "      <th>Wind</th>\n",
       "      <th>Gust</th>\n",
       "      <th>Rain</th>\n",
       "      <th>Humidity</th>\n",
       "      <th>Cloud</th>\n",
       "      <th>Pressure</th>\n",
       "      <th>Vis</th>\n",
       "    </tr>\n",
       "  </thead>\n",
       "  <tbody>\n",
       "    <tr>\n",
       "      <th>0</th>\n",
       "      <td>Thu 01, Jan 2009</td>\n",
       "      <td>00:00</td>\n",
       "      <td>Fog</td>\n",
       "      <td>23 °c</td>\n",
       "      <td>25 °c</td>\n",
       "      <td>9 km/h from NNW</td>\n",
       "      <td>15 km/h</td>\n",
       "      <td>0.0 mm</td>\n",
       "      <td>97%</td>\n",
       "      <td>100%</td>\n",
       "      <td>1010 mb</td>\n",
       "      <td>Poor</td>\n",
       "    </tr>\n",
       "    <tr>\n",
       "      <th>1</th>\n",
       "      <td>Thu 01, Jan 2009</td>\n",
       "      <td>03:00</td>\n",
       "      <td>Light drizzle</td>\n",
       "      <td>22 °c</td>\n",
       "      <td>25 °c</td>\n",
       "      <td>9 km/h from NNW</td>\n",
       "      <td>13 km/h</td>\n",
       "      <td>0.4 mm</td>\n",
       "      <td>97%</td>\n",
       "      <td>84%</td>\n",
       "      <td>1010 mb</td>\n",
       "      <td>Poor</td>\n",
       "    </tr>\n",
       "    <tr>\n",
       "      <th>2</th>\n",
       "      <td>Thu 01, Jan 2009</td>\n",
       "      <td>06:00</td>\n",
       "      <td>Fog</td>\n",
       "      <td>22 °c</td>\n",
       "      <td>25 °c</td>\n",
       "      <td>6 km/h from N</td>\n",
       "      <td>8 km/h</td>\n",
       "      <td>0.0 mm</td>\n",
       "      <td>98%</td>\n",
       "      <td>100%</td>\n",
       "      <td>1011 mb</td>\n",
       "      <td>Poor</td>\n",
       "    </tr>\n",
       "    <tr>\n",
       "      <th>3</th>\n",
       "      <td>Thu 01, Jan 2009</td>\n",
       "      <td>09:00</td>\n",
       "      <td>Cloudy</td>\n",
       "      <td>27 °c</td>\n",
       "      <td>31 °c</td>\n",
       "      <td>6 km/h from NNE</td>\n",
       "      <td>7 km/h</td>\n",
       "      <td>0.1 mm</td>\n",
       "      <td>83%</td>\n",
       "      <td>64%</td>\n",
       "      <td>1011 mb</td>\n",
       "      <td>Excellent</td>\n",
       "    </tr>\n",
       "    <tr>\n",
       "      <th>4</th>\n",
       "      <td>Thu 01, Jan 2009</td>\n",
       "      <td>12:00</td>\n",
       "      <td>Partly cloudy</td>\n",
       "      <td>28 °c</td>\n",
       "      <td>34 °c</td>\n",
       "      <td>3 km/h from NE</td>\n",
       "      <td>3 km/h</td>\n",
       "      <td>0.0 mm</td>\n",
       "      <td>76%</td>\n",
       "      <td>62%</td>\n",
       "      <td>1010 mb</td>\n",
       "      <td>Excellent</td>\n",
       "    </tr>\n",
       "    <tr>\n",
       "      <th>5</th>\n",
       "      <td>Thu 01, Jan 2009</td>\n",
       "      <td>15:00</td>\n",
       "      <td>Moderate or heavy rain shower</td>\n",
       "      <td>27 °c</td>\n",
       "      <td>32 °c</td>\n",
       "      <td>2 km/h from NNE</td>\n",
       "      <td>4 km/h</td>\n",
       "      <td>3.1 mm</td>\n",
       "      <td>83%</td>\n",
       "      <td>74%</td>\n",
       "      <td>1009 mb</td>\n",
       "      <td>Good</td>\n",
       "    </tr>\n",
       "    <tr>\n",
       "      <th>6</th>\n",
       "      <td>Thu 01, Jan 2009</td>\n",
       "      <td>18:00</td>\n",
       "      <td>Cloudy</td>\n",
       "      <td>24 °c</td>\n",
       "      <td>27 °c</td>\n",
       "      <td>7 km/h from NW</td>\n",
       "      <td>14 km/h</td>\n",
       "      <td>0.0 mm</td>\n",
       "      <td>91%</td>\n",
       "      <td>73%</td>\n",
       "      <td>1010 mb</td>\n",
       "      <td>Excellent</td>\n",
       "    </tr>\n",
       "    <tr>\n",
       "      <th>7</th>\n",
       "      <td>Thu 01, Jan 2009</td>\n",
       "      <td>21:00</td>\n",
       "      <td>Patchy rain possible</td>\n",
       "      <td>23 °c</td>\n",
       "      <td>26 °c</td>\n",
       "      <td>10 km/h from NNE</td>\n",
       "      <td>18 km/h</td>\n",
       "      <td>1.6 mm</td>\n",
       "      <td>91%</td>\n",
       "      <td>32%</td>\n",
       "      <td>1012 mb</td>\n",
       "      <td>Excellent</td>\n",
       "    </tr>\n",
       "    <tr>\n",
       "      <th>8</th>\n",
       "      <td>Fri 02, Jan 2009</td>\n",
       "      <td>00:00</td>\n",
       "      <td>Partly cloudy</td>\n",
       "      <td>22 °c</td>\n",
       "      <td>22 °c</td>\n",
       "      <td>8 km/h from N</td>\n",
       "      <td>14 km/h</td>\n",
       "      <td>0.0 mm</td>\n",
       "      <td>91%</td>\n",
       "      <td>30%</td>\n",
       "      <td>1011 mb</td>\n",
       "      <td>Excellent</td>\n",
       "    </tr>\n",
       "    <tr>\n",
       "      <th>9</th>\n",
       "      <td>Fri 02, Jan 2009</td>\n",
       "      <td>03:00</td>\n",
       "      <td>Cloudy</td>\n",
       "      <td>21 °c</td>\n",
       "      <td>22 °c</td>\n",
       "      <td>9 km/h from N</td>\n",
       "      <td>16 km/h</td>\n",
       "      <td>0.0 mm</td>\n",
       "      <td>91%</td>\n",
       "      <td>72%</td>\n",
       "      <td>1010 mb</td>\n",
       "      <td>Excellent</td>\n",
       "    </tr>\n",
       "  </tbody>\n",
       "</table>\n",
       "</div>"
      ],
      "text/plain": [
       "               Date   Time                        Weather   Temp  Feels  \\\n",
       "0  Thu 01, Jan 2009  00:00                            Fog  23 °c  25 °c   \n",
       "1  Thu 01, Jan 2009  03:00                  Light drizzle  22 °c  25 °c   \n",
       "2  Thu 01, Jan 2009  06:00                            Fog  22 °c  25 °c   \n",
       "3  Thu 01, Jan 2009  09:00                         Cloudy  27 °c  31 °c   \n",
       "4  Thu 01, Jan 2009  12:00                  Partly cloudy  28 °c  34 °c   \n",
       "5  Thu 01, Jan 2009  15:00  Moderate or heavy rain shower  27 °c  32 °c   \n",
       "6  Thu 01, Jan 2009  18:00                         Cloudy  24 °c  27 °c   \n",
       "7  Thu 01, Jan 2009  21:00           Patchy rain possible  23 °c  26 °c   \n",
       "8  Fri 02, Jan 2009  00:00                  Partly cloudy  22 °c  22 °c   \n",
       "9  Fri 02, Jan 2009  03:00                         Cloudy  21 °c  22 °c   \n",
       "\n",
       "               Wind     Gust    Rain Humidity Cloud Pressure        Vis  \n",
       "0   9 km/h from NNW  15 km/h  0.0 mm      97%  100%  1010 mb       Poor  \n",
       "1   9 km/h from NNW  13 km/h  0.4 mm      97%   84%  1010 mb       Poor  \n",
       "2     6 km/h from N   8 km/h  0.0 mm      98%  100%  1011 mb       Poor  \n",
       "3   6 km/h from NNE   7 km/h  0.1 mm      83%   64%  1011 mb  Excellent  \n",
       "4    3 km/h from NE   3 km/h  0.0 mm      76%   62%  1010 mb  Excellent  \n",
       "5   2 km/h from NNE   4 km/h  3.1 mm      83%   74%  1009 mb       Good  \n",
       "6    7 km/h from NW  14 km/h  0.0 mm      91%   73%  1010 mb  Excellent  \n",
       "7  10 km/h from NNE  18 km/h  1.6 mm      91%   32%  1012 mb  Excellent  \n",
       "8     8 km/h from N  14 km/h  0.0 mm      91%   30%  1011 mb  Excellent  \n",
       "9     9 km/h from N  16 km/h  0.0 mm      91%   72%  1010 mb  Excellent  "
      ]
     },
     "execution_count": 40,
     "metadata": {},
     "output_type": "execute_result"
    }
   ],
   "source": [
    "data = pd.read_csv('weatherHCM.csv', sep='\\t')\n",
    "data.head(10)"
   ]
  },
  {
   "cell_type": "code",
   "execution_count": 41,
   "metadata": {},
   "outputs": [
    {
     "data": {
      "text/plain": [
       "(34976, 12)"
      ]
     },
     "execution_count": 41,
     "metadata": {},
     "output_type": "execute_result"
    }
   ],
   "source": [
    "data.shape"
   ]
  },
  {
   "cell_type": "markdown",
   "metadata": {},
   "source": [
    "Dữ liệu gồm **34976** dòng và **12** cột. Mỗi dòng bao gồm các thông tin về thời tiết trong 3h:\n",
    "- Date: ngày\n",
    "- Time:    thời gian trong ngày\n",
    "- Weather: tình trạng thời tiết \n",
    "- Temp: nhiệt độ \n",
    "- Feels: nhiệt độ thực sự cảm nhận được\n",
    "- Wind: tốc độ gió\n",
    "- Gust: tốc độ gió giật\n",
    "- Rain: lượng mưa\n",
    "- Humidity: độ ẩm\n",
    "- Cloud: mật độ mây\n",
    "- Pressure: áp suất không khí\n",
    "- Vis: tầm nhìn"
   ]
  },
  {
   "cell_type": "markdown",
   "metadata": {},
   "source": [
    "### Kiểm tra giá trị thiếu"
   ]
  },
  {
   "cell_type": "code",
   "execution_count": 77,
   "metadata": {},
   "outputs": [
    {
     "name": "stdout",
     "output_type": "stream",
     "text": [
      "<class 'pandas.core.frame.DataFrame'>\n",
      "RangeIndex: 34976 entries, 0 to 34975\n",
      "Data columns (total 12 columns):\n",
      " #   Column    Non-Null Count  Dtype \n",
      "---  ------    --------------  ----- \n",
      " 0   Date      34976 non-null  object\n",
      " 1   Time      34976 non-null  object\n",
      " 2   Weather   34976 non-null  object\n",
      " 3   Temp      34976 non-null  object\n",
      " 4   Feels     34976 non-null  object\n",
      " 5   Wind      34976 non-null  object\n",
      " 6   Gust      34976 non-null  object\n",
      " 7   Rain      34976 non-null  object\n",
      " 8   Humidity  34976 non-null  object\n",
      " 9   Cloud     34976 non-null  object\n",
      " 10  Pressure  34976 non-null  object\n",
      " 11  Vis       34976 non-null  object\n",
      "dtypes: object(12)\n",
      "memory usage: 3.2+ MB\n"
     ]
    }
   ],
   "source": [
    "data.info()"
   ]
  },
  {
   "cell_type": "markdown",
   "metadata": {},
   "source": [
    "-> Dữ liệu không có giá trị thiếu"
   ]
  },
  {
   "cell_type": "markdown",
   "metadata": {},
   "source": [
    "### Kiểu dữ liệu "
   ]
  },
  {
   "cell_type": "markdown",
   "metadata": {},
   "source": [
    "Tất cả thuộc tính đều có kiểu dữ liệu object"
   ]
  },
  {
   "cell_type": "markdown",
   "metadata": {},
   "source": [
    "**Các cột Temp, Feels, Gust, Rain, Humidity, Cloud, Pressure nên được đưa về dạng số**"
   ]
  },
  {
   "cell_type": "code",
   "execution_count": 42,
   "metadata": {},
   "outputs": [],
   "source": [
    "attrs1 = ['Temp', 'Feels', 'Gust', 'Rain', 'Pressure']\n",
    "for attr in attrs1:\n",
    "    data[attr] = data[attr].str.split(' ', expand=True)[0].astype('float')\n",
    "    \n",
    "attrs2 = ['Humidity', 'Cloud']\n",
    "for attr in attrs2:\n",
    "    data[attr] = data[attr].str.split('%', expand=True)[0].astype('float') / 100"
   ]
  },
  {
   "cell_type": "markdown",
   "metadata": {},
   "source": [
    "Ta thấy cột Wind cho tới 2 thông tin là tốc độ và hướng gió, nên tách thành 2 cột riêng biệt là **Wind Speed** và **Wind Direction**"
   ]
  },
  {
   "cell_type": "code",
   "execution_count": 43,
   "metadata": {},
   "outputs": [],
   "source": [
    "new_data_Wind = data['Wind'].str.split(' from ', expand=True)\n",
    "data['Wind Speed'] = new_data_Wind[0]\n",
    "data['Wind Direction'] = new_data_Wind[1]\n",
    "data.drop(columns=['Wind'], inplace=True)"
   ]
  },
  {
   "cell_type": "markdown",
   "metadata": {},
   "source": [
    "Đưa cột **Wind Speed** về dạng số"
   ]
  },
  {
   "cell_type": "code",
   "execution_count": 44,
   "metadata": {},
   "outputs": [],
   "source": [
    "data['Wind Speed'] = data['Wind Speed'].str.split(' ', expand=True)[0].astype('float')"
   ]
  },
  {
   "cell_type": "code",
   "execution_count": 45,
   "metadata": {},
   "outputs": [
    {
     "data": {
      "text/plain": [
       "Date               object\n",
       "Time               object\n",
       "Weather            object\n",
       "Temp              float64\n",
       "Feels             float64\n",
       "Gust              float64\n",
       "Rain              float64\n",
       "Humidity          float64\n",
       "Cloud             float64\n",
       "Pressure          float64\n",
       "Vis                object\n",
       "Wind Speed        float64\n",
       "Wind Direction     object\n",
       "dtype: object"
      ]
     },
     "execution_count": 45,
     "metadata": {},
     "output_type": "execute_result"
    }
   ],
   "source": [
    "data.dtypes"
   ]
  },
  {
   "cell_type": "markdown",
   "metadata": {},
   "source": [
    "### Phân bố của dữ liệu dạng số"
   ]
  },
  {
   "cell_type": "code",
   "execution_count": 46,
   "metadata": {},
   "outputs": [
    {
     "data": {
      "text/html": [
       "<div>\n",
       "<style scoped>\n",
       "    .dataframe tbody tr th:only-of-type {\n",
       "        vertical-align: middle;\n",
       "    }\n",
       "\n",
       "    .dataframe tbody tr th {\n",
       "        vertical-align: top;\n",
       "    }\n",
       "\n",
       "    .dataframe thead th {\n",
       "        text-align: right;\n",
       "    }\n",
       "</style>\n",
       "<table border=\"1\" class=\"dataframe\">\n",
       "  <thead>\n",
       "    <tr style=\"text-align: right;\">\n",
       "      <th></th>\n",
       "      <th>Temp</th>\n",
       "      <th>Feels</th>\n",
       "      <th>Gust</th>\n",
       "      <th>Rain</th>\n",
       "      <th>Humidity</th>\n",
       "      <th>Cloud</th>\n",
       "      <th>Pressure</th>\n",
       "      <th>Wind Speed</th>\n",
       "    </tr>\n",
       "  </thead>\n",
       "  <tbody>\n",
       "    <tr>\n",
       "      <th>count</th>\n",
       "      <td>34976.000000</td>\n",
       "      <td>34976.000000</td>\n",
       "      <td>34976.000000</td>\n",
       "      <td>34976.000000</td>\n",
       "      <td>34976.000000</td>\n",
       "      <td>34976.000000</td>\n",
       "      <td>34976.000000</td>\n",
       "      <td>34976.000000</td>\n",
       "    </tr>\n",
       "    <tr>\n",
       "      <th>mean</th>\n",
       "      <td>27.845437</td>\n",
       "      <td>32.188758</td>\n",
       "      <td>13.076538</td>\n",
       "      <td>0.441763</td>\n",
       "      <td>0.739599</td>\n",
       "      <td>0.379355</td>\n",
       "      <td>1009.337917</td>\n",
       "      <td>9.156593</td>\n",
       "    </tr>\n",
       "    <tr>\n",
       "      <th>std</th>\n",
       "      <td>3.413878</td>\n",
       "      <td>4.438785</td>\n",
       "      <td>6.687806</td>\n",
       "      <td>1.458789</td>\n",
       "      <td>0.156772</td>\n",
       "      <td>0.243661</td>\n",
       "      <td>2.388064</td>\n",
       "      <td>4.507744</td>\n",
       "    </tr>\n",
       "    <tr>\n",
       "      <th>min</th>\n",
       "      <td>16.000000</td>\n",
       "      <td>16.000000</td>\n",
       "      <td>0.000000</td>\n",
       "      <td>0.000000</td>\n",
       "      <td>0.210000</td>\n",
       "      <td>0.000000</td>\n",
       "      <td>1000.000000</td>\n",
       "      <td>0.000000</td>\n",
       "    </tr>\n",
       "    <tr>\n",
       "      <th>25%</th>\n",
       "      <td>25.000000</td>\n",
       "      <td>29.000000</td>\n",
       "      <td>8.000000</td>\n",
       "      <td>0.000000</td>\n",
       "      <td>0.640000</td>\n",
       "      <td>0.190000</td>\n",
       "      <td>1008.000000</td>\n",
       "      <td>6.000000</td>\n",
       "    </tr>\n",
       "    <tr>\n",
       "      <th>50%</th>\n",
       "      <td>27.000000</td>\n",
       "      <td>31.000000</td>\n",
       "      <td>12.000000</td>\n",
       "      <td>0.000000</td>\n",
       "      <td>0.770000</td>\n",
       "      <td>0.330000</td>\n",
       "      <td>1009.000000</td>\n",
       "      <td>9.000000</td>\n",
       "    </tr>\n",
       "    <tr>\n",
       "      <th>75%</th>\n",
       "      <td>30.000000</td>\n",
       "      <td>36.000000</td>\n",
       "      <td>17.000000</td>\n",
       "      <td>0.000000</td>\n",
       "      <td>0.870000</td>\n",
       "      <td>0.530000</td>\n",
       "      <td>1011.000000</td>\n",
       "      <td>12.000000</td>\n",
       "    </tr>\n",
       "    <tr>\n",
       "      <th>max</th>\n",
       "      <td>39.000000</td>\n",
       "      <td>51.000000</td>\n",
       "      <td>55.000000</td>\n",
       "      <td>50.800000</td>\n",
       "      <td>0.990000</td>\n",
       "      <td>1.000000</td>\n",
       "      <td>1019.000000</td>\n",
       "      <td>33.000000</td>\n",
       "    </tr>\n",
       "  </tbody>\n",
       "</table>\n",
       "</div>"
      ],
      "text/plain": [
       "               Temp         Feels          Gust          Rain      Humidity  \\\n",
       "count  34976.000000  34976.000000  34976.000000  34976.000000  34976.000000   \n",
       "mean      27.845437     32.188758     13.076538      0.441763      0.739599   \n",
       "std        3.413878      4.438785      6.687806      1.458789      0.156772   \n",
       "min       16.000000     16.000000      0.000000      0.000000      0.210000   \n",
       "25%       25.000000     29.000000      8.000000      0.000000      0.640000   \n",
       "50%       27.000000     31.000000     12.000000      0.000000      0.770000   \n",
       "75%       30.000000     36.000000     17.000000      0.000000      0.870000   \n",
       "max       39.000000     51.000000     55.000000     50.800000      0.990000   \n",
       "\n",
       "              Cloud      Pressure    Wind Speed  \n",
       "count  34976.000000  34976.000000  34976.000000  \n",
       "mean       0.379355   1009.337917      9.156593  \n",
       "std        0.243661      2.388064      4.507744  \n",
       "min        0.000000   1000.000000      0.000000  \n",
       "25%        0.190000   1008.000000      6.000000  \n",
       "50%        0.330000   1009.000000      9.000000  \n",
       "75%        0.530000   1011.000000     12.000000  \n",
       "max        1.000000   1019.000000     33.000000  "
      ]
     },
     "execution_count": 46,
     "metadata": {},
     "output_type": "execute_result"
    }
   ],
   "source": [
    "data_float = data[['Temp', 'Feels', 'Gust', 'Rain', 'Humidity', 'Cloud', 'Pressure', 'Wind Speed']]\n",
    "data_float.describe()"
   ]
  },
  {
   "cell_type": "code",
   "execution_count": 47,
   "metadata": {},
   "outputs": [
    {
     "data": {
      "image/png": "[encoded data removed]",
      "text/plain": [
       "<Figure size 1080x576 with 8 Axes>"
      ]
     },
     "metadata": {
      "needs_background": "light"
     },
     "output_type": "display_data"
    }
   ],
   "source": [
    "fig, axs = plt.subplots(2, 4, figsize=(15, 8))\n",
    "\n",
    "axs[0, 0].boxplot(data['Temp'])\n",
    "axs[0, 0].set_xlabel('Temp')\n",
    "\n",
    "axs[0, 1].boxplot(data['Feels'])\n",
    "axs[0, 1].set_xlabel('Feels')\n",
    "\n",
    "axs[0, 2].boxplot(data['Gust'])\n",
    "axs[0, 2].set_xlabel('Gust')\n",
    "\n",
    "axs[0, 3].boxplot(data['Rain'])\n",
    "axs[0, 3].set_xlabel('Rain')\n",
    "\n",
    "axs[1, 0].boxplot(data['Humidity'])\n",
    "axs[1, 0].set_xlabel('Humidity')\n",
    "\n",
    "axs[1, 1].boxplot(data['Cloud'])\n",
    "axs[1, 1].set_xlabel('Cloud')\n",
    "\n",
    "axs[1, 2].boxplot(data['Pressure'])\n",
    "axs[1, 2].set_xlabel('Pressure')\n",
    "\n",
    "axs[1, 3].boxplot(data['Wind Speed'])\n",
    "axs[1, 3].set_xlabel('Wind Speed')\n",
    "\n",
    "plt.show()"
   ]
  },
  {
   "cell_type": "markdown",
   "metadata": {},
   "source": [
    "**Tìm giá trị không hợp lệ**"
   ]
  },
  {
   "cell_type": "markdown",
   "metadata": {},
   "source": [
    "Wind Speed sẽ luôn nhỏ hơn Gust trong cùng khoảng thời gian"
   ]
  },
  {
   "cell_type": "code",
   "execution_count": 84,
   "metadata": {},
   "outputs": [
    {
     "data": {
      "text/plain": [
       "0"
      ]
     },
     "execution_count": 84,
     "metadata": {},
     "output_type": "execute_result"
    }
   ],
   "source": [
    "num_invalid_rows = (data['Gust'] < data['Wind Speed']).sum()\n",
    "num_invalid_rows"
   ]
  },
  {
   "cell_type": "markdown",
   "metadata": {},
   "source": [
    "-> Không có giá trị không hợp lệ"
   ]
  },
  {
   "cell_type": "markdown",
   "metadata": {},
   "source": [
    "### Phân bố của dữ liệu không phải số"
   ]
  },
  {
   "cell_type": "code",
   "execution_count": 48,
   "metadata": {},
   "outputs": [
    {
     "data": {
      "image/png": "[encoded data removed]",
      "text/plain": [
       "<Figure size 720x432 with 1 Axes>"
      ]
     },
     "metadata": {
      "needs_background": "light"
     },
     "output_type": "display_data"
    }
   ],
   "source": [
    "# Weather\n",
    "dic_weather = {}\n",
    "for weather in data['Weather'].unique():\n",
    "    dic_weather[weather] = data[data['Weather'] == weather].shape[0]\n",
    "    \n",
    "data_weather = pd.Series(dict(sorted(dic_weather.items(), key=lambda item: item[1])))\n",
    "plot_weather = data_weather.plot(kind = 'barh', figsize=(10,6), title='Weather')"
   ]
  },
  {
   "cell_type": "markdown",
   "metadata": {},
   "source": [
    "Gộp các giá trị của **Weather** thành các giá trị: *Sunny*, *Clear*, *Cloudy*, *Rain*, *Mist* và *Overcast*"
   ]
  },
  {
   "cell_type": "code",
   "execution_count": 49,
   "metadata": {},
   "outputs": [
    {
     "data": {
      "text/plain": [
       "array(['Mist', 'Rain', 'Cloudy', 'Sunny', 'Clear', 'Overcast'],\n",
       "      dtype=object)"
      ]
     },
     "execution_count": 49,
     "metadata": {},
     "output_type": "execute_result"
    }
   ],
   "source": [
    "def convert_weather(x):\n",
    "    if ('rain' in x) or ('drizzle' in x) or ('Thundery' in x):\n",
    "        return 'Rain'\n",
    "    if x == 'Fog':\n",
    "        return 'Mist'\n",
    "    if x == 'Partly cloudy':\n",
    "        return 'Cloudy'\n",
    "    return x\n",
    "\n",
    "data['Weather'] = data['Weather'].apply(convert_weather)\n",
    "data['Weather'].unique()"
   ]
  },
  {
   "cell_type": "code",
   "execution_count": 50,
   "metadata": {},
   "outputs": [
    {
     "data": {
      "image/png": "[encoded data removed]",
      "text/plain": [
       "<Figure size 720x432 with 1 Axes>"
      ]
     },
     "metadata": {
      "needs_background": "light"
     },
     "output_type": "display_data"
    }
   ],
   "source": [
    "# Vision\n",
    "dic_vis = {}\n",
    "for vis in data['Vis'].unique():\n",
    "    dic_vis[vis] = data[data['Vis'] == vis].shape[0]\n",
    "data_vis = pd.Series(dict(sorted(dic_vis.items(), key=lambda item: item[1])))\n",
    "plot_vis = data_vis.plot(kind='barh', figsize=(10,6), title='Vision')"
   ]
  },
  {
   "cell_type": "code",
   "execution_count": 51,
   "metadata": {},
   "outputs": [
    {
     "data": {
      "image/png": "[encoded data removed]",
      "text/plain": [
       "<Figure size 720x432 with 1 Axes>"
      ]
     },
     "metadata": {
      "needs_background": "light"
     },
     "output_type": "display_data"
    }
   ],
   "source": [
    "# Wind direction\n",
    "dic_wind_dir = {}\n",
    "for wind_dir in data['Wind Direction'].unique():\n",
    "    dic_wind_dir[wind_dir] = data[data['Wind Direction'] == wind_dir].shape[0]\n",
    "    \n",
    "data_wind_dir = pd.Series(dict(sorted(dic_wind_dir.items(), key=lambda item: item[1])))\n",
    "plot_wind_dir = data_wind_dir.plot(kind='barh', figsize=(10,6), title='Wind Direction')"
   ]
  },
  {
   "cell_type": "markdown",
   "metadata": {},
   "source": [
    "**Dữ liệu sau khi tiền xử lý**"
   ]
  },
  {
   "cell_type": "code",
   "execution_count": 52,
   "metadata": {},
   "outputs": [
    {
     "data": {
      "text/html": [
       "<div>\n",
       "<style scoped>\n",
       "    .dataframe tbody tr th:only-of-type {\n",
       "        vertical-align: middle;\n",
       "    }\n",
       "\n",
       "    .dataframe tbody tr th {\n",
       "        vertical-align: top;\n",
       "    }\n",
       "\n",
       "    .dataframe thead th {\n",
       "        text-align: right;\n",
       "    }\n",
       "</style>\n",
       "<table border=\"1\" class=\"dataframe\">\n",
       "  <thead>\n",
       "    <tr style=\"text-align: right;\">\n",
       "      <th></th>\n",
       "      <th>Date</th>\n",
       "      <th>Time</th>\n",
       "      <th>Weather</th>\n",
       "      <th>Temp</th>\n",
       "      <th>Feels</th>\n",
       "      <th>Gust</th>\n",
       "      <th>Rain</th>\n",
       "      <th>Humidity</th>\n",
       "      <th>Cloud</th>\n",
       "      <th>Pressure</th>\n",
       "      <th>Vis</th>\n",
       "      <th>Wind Speed</th>\n",
       "      <th>Wind Direction</th>\n",
       "    </tr>\n",
       "  </thead>\n",
       "  <tbody>\n",
       "    <tr>\n",
       "      <th>0</th>\n",
       "      <td>Thu 01, Jan 2009</td>\n",
       "      <td>00:00</td>\n",
       "      <td>Mist</td>\n",
       "      <td>23.0</td>\n",
       "      <td>25.0</td>\n",
       "      <td>15.0</td>\n",
       "      <td>0.0</td>\n",
       "      <td>0.97</td>\n",
       "      <td>1.00</td>\n",
       "      <td>1010.0</td>\n",
       "      <td>Poor</td>\n",
       "      <td>9.0</td>\n",
       "      <td>NNW</td>\n",
       "    </tr>\n",
       "    <tr>\n",
       "      <th>1</th>\n",
       "      <td>Thu 01, Jan 2009</td>\n",
       "      <td>03:00</td>\n",
       "      <td>Rain</td>\n",
       "      <td>22.0</td>\n",
       "      <td>25.0</td>\n",
       "      <td>13.0</td>\n",
       "      <td>0.4</td>\n",
       "      <td>0.97</td>\n",
       "      <td>0.84</td>\n",
       "      <td>1010.0</td>\n",
       "      <td>Poor</td>\n",
       "      <td>9.0</td>\n",
       "      <td>NNW</td>\n",
       "    </tr>\n",
       "    <tr>\n",
       "      <th>2</th>\n",
       "      <td>Thu 01, Jan 2009</td>\n",
       "      <td>06:00</td>\n",
       "      <td>Mist</td>\n",
       "      <td>22.0</td>\n",
       "      <td>25.0</td>\n",
       "      <td>8.0</td>\n",
       "      <td>0.0</td>\n",
       "      <td>0.98</td>\n",
       "      <td>1.00</td>\n",
       "      <td>1011.0</td>\n",
       "      <td>Poor</td>\n",
       "      <td>6.0</td>\n",
       "      <td>N</td>\n",
       "    </tr>\n",
       "    <tr>\n",
       "      <th>3</th>\n",
       "      <td>Thu 01, Jan 2009</td>\n",
       "      <td>09:00</td>\n",
       "      <td>Cloudy</td>\n",
       "      <td>27.0</td>\n",
       "      <td>31.0</td>\n",
       "      <td>7.0</td>\n",
       "      <td>0.1</td>\n",
       "      <td>0.83</td>\n",
       "      <td>0.64</td>\n",
       "      <td>1011.0</td>\n",
       "      <td>Excellent</td>\n",
       "      <td>6.0</td>\n",
       "      <td>NNE</td>\n",
       "    </tr>\n",
       "    <tr>\n",
       "      <th>4</th>\n",
       "      <td>Thu 01, Jan 2009</td>\n",
       "      <td>12:00</td>\n",
       "      <td>Cloudy</td>\n",
       "      <td>28.0</td>\n",
       "      <td>34.0</td>\n",
       "      <td>3.0</td>\n",
       "      <td>0.0</td>\n",
       "      <td>0.76</td>\n",
       "      <td>0.62</td>\n",
       "      <td>1010.0</td>\n",
       "      <td>Excellent</td>\n",
       "      <td>3.0</td>\n",
       "      <td>NE</td>\n",
       "    </tr>\n",
       "    <tr>\n",
       "      <th>5</th>\n",
       "      <td>Thu 01, Jan 2009</td>\n",
       "      <td>15:00</td>\n",
       "      <td>Rain</td>\n",
       "      <td>27.0</td>\n",
       "      <td>32.0</td>\n",
       "      <td>4.0</td>\n",
       "      <td>3.1</td>\n",
       "      <td>0.83</td>\n",
       "      <td>0.74</td>\n",
       "      <td>1009.0</td>\n",
       "      <td>Good</td>\n",
       "      <td>2.0</td>\n",
       "      <td>NNE</td>\n",
       "    </tr>\n",
       "    <tr>\n",
       "      <th>6</th>\n",
       "      <td>Thu 01, Jan 2009</td>\n",
       "      <td>18:00</td>\n",
       "      <td>Cloudy</td>\n",
       "      <td>24.0</td>\n",
       "      <td>27.0</td>\n",
       "      <td>14.0</td>\n",
       "      <td>0.0</td>\n",
       "      <td>0.91</td>\n",
       "      <td>0.73</td>\n",
       "      <td>1010.0</td>\n",
       "      <td>Excellent</td>\n",
       "      <td>7.0</td>\n",
       "      <td>NW</td>\n",
       "    </tr>\n",
       "    <tr>\n",
       "      <th>7</th>\n",
       "      <td>Thu 01, Jan 2009</td>\n",
       "      <td>21:00</td>\n",
       "      <td>Rain</td>\n",
       "      <td>23.0</td>\n",
       "      <td>26.0</td>\n",
       "      <td>18.0</td>\n",
       "      <td>1.6</td>\n",
       "      <td>0.91</td>\n",
       "      <td>0.32</td>\n",
       "      <td>1012.0</td>\n",
       "      <td>Excellent</td>\n",
       "      <td>10.0</td>\n",
       "      <td>NNE</td>\n",
       "    </tr>\n",
       "    <tr>\n",
       "      <th>8</th>\n",
       "      <td>Fri 02, Jan 2009</td>\n",
       "      <td>00:00</td>\n",
       "      <td>Cloudy</td>\n",
       "      <td>22.0</td>\n",
       "      <td>22.0</td>\n",
       "      <td>14.0</td>\n",
       "      <td>0.0</td>\n",
       "      <td>0.91</td>\n",
       "      <td>0.30</td>\n",
       "      <td>1011.0</td>\n",
       "      <td>Excellent</td>\n",
       "      <td>8.0</td>\n",
       "      <td>N</td>\n",
       "    </tr>\n",
       "    <tr>\n",
       "      <th>9</th>\n",
       "      <td>Fri 02, Jan 2009</td>\n",
       "      <td>03:00</td>\n",
       "      <td>Cloudy</td>\n",
       "      <td>21.0</td>\n",
       "      <td>22.0</td>\n",
       "      <td>16.0</td>\n",
       "      <td>0.0</td>\n",
       "      <td>0.91</td>\n",
       "      <td>0.72</td>\n",
       "      <td>1010.0</td>\n",
       "      <td>Excellent</td>\n",
       "      <td>9.0</td>\n",
       "      <td>N</td>\n",
       "    </tr>\n",
       "  </tbody>\n",
       "</table>\n",
       "</div>"
      ],
      "text/plain": [
       "               Date   Time Weather  Temp  Feels  Gust  Rain  Humidity  Cloud  \\\n",
       "0  Thu 01, Jan 2009  00:00    Mist  23.0   25.0  15.0   0.0      0.97   1.00   \n",
       "1  Thu 01, Jan 2009  03:00    Rain  22.0   25.0  13.0   0.4      0.97   0.84   \n",
       "2  Thu 01, Jan 2009  06:00    Mist  22.0   25.0   8.0   0.0      0.98   1.00   \n",
       "3  Thu 01, Jan 2009  09:00  Cloudy  27.0   31.0   7.0   0.1      0.83   0.64   \n",
       "4  Thu 01, Jan 2009  12:00  Cloudy  28.0   34.0   3.0   0.0      0.76   0.62   \n",
       "5  Thu 01, Jan 2009  15:00    Rain  27.0   32.0   4.0   3.1      0.83   0.74   \n",
       "6  Thu 01, Jan 2009  18:00  Cloudy  24.0   27.0  14.0   0.0      0.91   0.73   \n",
       "7  Thu 01, Jan 2009  21:00    Rain  23.0   26.0  18.0   1.6      0.91   0.32   \n",
       "8  Fri 02, Jan 2009  00:00  Cloudy  22.0   22.0  14.0   0.0      0.91   0.30   \n",
       "9  Fri 02, Jan 2009  03:00  Cloudy  21.0   22.0  16.0   0.0      0.91   0.72   \n",
       "\n",
       "   Pressure        Vis  Wind Speed Wind Direction  \n",
       "0    1010.0       Poor         9.0            NNW  \n",
       "1    1010.0       Poor         9.0            NNW  \n",
       "2    1011.0       Poor         6.0              N  \n",
       "3    1011.0  Excellent         6.0            NNE  \n",
       "4    1010.0  Excellent         3.0             NE  \n",
       "5    1009.0       Good         2.0            NNE  \n",
       "6    1010.0  Excellent         7.0             NW  \n",
       "7    1012.0  Excellent        10.0            NNE  \n",
       "8    1011.0  Excellent         8.0              N  \n",
       "9    1010.0  Excellent         9.0              N  "
      ]
     },
     "execution_count": 52,
     "metadata": {},
     "output_type": "execute_result"
    }
   ],
   "source": [
    "data.head(10)"
   ]
  },
  {
   "cell_type": "markdown",
   "metadata": {},
   "source": [
    "**Ghi vào file csv**"
   ]
  },
  {
   "cell_type": "code",
   "execution_count": 53,
   "metadata": {},
   "outputs": [],
   "source": [
    "data.to_csv('weatherHCM_preprocessed.csv', sep='\\t', index=False)"
   ]
  },
  {
   "cell_type": "markdown",
   "metadata": {},
   "source": [
    "### Đặt câu hỏi"
   ]
  },
  {
   "cell_type": "markdown",
   "metadata": {},
   "source": [
    "*Tháng nào trong năm có nhiệt độ trung bình cao nhất?*"
   ]
  },
  {
   "cell_type": "markdown",
   "metadata": {},
   "source": [
    "**Tiền xử lý dữ liệu**"
   ]
  },
  {
   "cell_type": "code",
   "execution_count": 54,
   "metadata": {},
   "outputs": [
    {
     "data": {
      "text/plain": [
       "array(['Jan', 'Feb', 'Mar', 'Apr', 'May', 'Jun', 'Jul', 'Aug', 'Sep',\n",
       "       'Oct', 'Nov', 'Dec'], dtype=object)"
      ]
     },
     "execution_count": 54,
     "metadata": {},
     "output_type": "execute_result"
    }
   ],
   "source": [
    "# Tạo cột Month từ cột Date\n",
    "data['Month'] = data['Date'].str.split(' ', expand=True)[2]\n",
    "data['Month'].unique()"
   ]
  },
  {
   "cell_type": "markdown",
   "metadata": {},
   "source": [
    "**Phân tích dữ liệu để trả lời câu hỏi**"
   ]
  },
  {
   "cell_type": "code",
   "execution_count": 55,
   "metadata": {},
   "outputs": [
    {
     "data": {
      "image/png": "[encoded data removed]",
      "text/plain": [
       "<Figure size 1080x360 with 1 Axes>"
      ]
     },
     "metadata": {
      "needs_background": "light"
     },
     "output_type": "display_data"
    }
   ],
   "source": [
    "dic = {}\n",
    "\n",
    "for month in data['Month'].unique():\n",
    "    dic[month] = data[data['Month'] == month]['Temp'].mean()\n",
    "\n",
    "mean_temp_of_months = pd.Series(dic)\n",
    "\n",
    "temp_plot = mean_temp_of_months.plot(kind='bar', figsize=(15, 5), title='Monthly average temperature in HCM City')\n",
    "temp_plot.set_ylabel('Độ C')\n",
    "plt.xticks(rotation=0)\n",
    "plt.show()"
   ]
  },
  {
   "cell_type": "markdown",
   "metadata": {},
   "source": [
    "-> Nhiệt độ trung bình cao nhất là vào tháng 4 (April). Nhưng nhìn chung nhiệt độ TPHCM phân bố khá đều qua các tháng trong năm."
   ]
  },
  {
   "cell_type": "markdown",
   "metadata": {},
   "source": [
    "*Tháng nào trong năm có lượng mưa thấp nhất (khô nhất)?*"
   ]
  },
  {
   "cell_type": "markdown",
   "metadata": {},
   "source": [
    "**Phân tích dữ liệu để trả lời câu hỏi**"
   ]
  },
  {
   "cell_type": "code",
   "execution_count": 56,
   "metadata": {},
   "outputs": [
    {
     "data": {
      "image/png": "[encoded data removed]",
      "text/plain": [
       "<Figure size 1080x360 with 1 Axes>"
      ]
     },
     "metadata": {
      "needs_background": "light"
     },
     "output_type": "display_data"
    }
   ],
   "source": [
    "dic = {}\n",
    "\n",
    "for month in data['Month'].unique():\n",
    "    dic[month] = data[data['Month'] == month]['Rain'].sum()\n",
    "\n",
    "rain_of_months = pd.Series(dic)\n",
    "\n",
    "temp_plot = rain_of_months.plot(kind='bar', figsize=(15, 5), title='Monthly amount of rain in HCM City')\n",
    "temp_plot.set_ylabel('mm')\n",
    "plt.xticks(rotation=0)\n",
    "plt.show()"
   ]
  },
  {
   "cell_type": "markdown",
   "metadata": {},
   "source": [
    "-> Lượng mưa của tháng 2 (Feb) thấp nhất trong năm"
   ]
  }
 ],
 "metadata": {
  "kernelspec": {
   "display_name": "Python 3",
   "language": "python",
   "name": "python3"
  },
  "language_info": {
   "codemirror_mode": {
    "name": "ipython",
    "version": 3
   },
   "file_extension": ".py",
   "mimetype": "text/x-python",
   "name": "python",
   "nbconvert_exporter": "python",
   "pygments_lexer": "ipython3",
   "version": "3.8.3"
  }
 },
 "nbformat": 4,
 "nbformat_minor": 4
}
